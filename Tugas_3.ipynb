{
  "nbformat": 4,
  "nbformat_minor": 0,
  "metadata": {
    "colab": {
      "provenance": [],
      "authorship_tag": "ABX9TyMjSGliP7Ru0I0KMNZWMfp8",
      "include_colab_link": true
    },
    "kernelspec": {
      "name": "python3",
      "display_name": "Python 3"
    },
    "language_info": {
      "name": "python"
    }
  },
  "cells": [
    {
      "cell_type": "markdown",
      "metadata": {
        "id": "view-in-github",
        "colab_type": "text"
      },
      "source": [
        "<a href=\"https://colab.research.google.com/github/annasyifa/PBO-3/blob/main/Tugas_3.ipynb\" target=\"_parent\"><img src=\"https://colab.research.google.com/assets/colab-badge.svg\" alt=\"Open In Colab\"/></a>"
      ]
    },
    {
      "cell_type": "code",
      "execution_count": 8,
      "metadata": {
        "colab": {
          "base_uri": "https://localhost:8080/"
        },
        "id": "Qjij1DuOzukl",
        "outputId": "8fda0bfb-6906-427b-cc34-812ec8e1cd67"
      },
      "outputs": [
        {
          "output_type": "stream",
          "name": "stdout",
          "text": [
            "Budi details;\n",
            "Rambut:  ikal\n",
            "Warna rambut:  hitam\n",
            "\n",
            "Michael details;\n",
            "Rambut:  lurus\n",
            "Warna rambut:  pirang\n"
          ]
        }
      ],
      "source": [
        "class Person:\n",
        "    def __init__(self, rambut, warna):\n",
        "      self.rambut = rambut\n",
        "      self.warna = warna\n",
        "\n",
        "Budi = Person(\"ikal\", \"hitam\")\n",
        "Michael = Person(\"lurus\", \"pirang\")\n",
        "\n",
        "print('Budi details;')\n",
        "print('Rambut: ', Budi.rambut)\n",
        "print('Warna rambut: ', Budi.warna)\n",
        "\n",
        "print('\\nMichael details;')\n",
        "print('Rambut: ', Michael.rambut)\n",
        "print('Warna rambut: ', Michael.warna)"
      ]
    }
  ]
}