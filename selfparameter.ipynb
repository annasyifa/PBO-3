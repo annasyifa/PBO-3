{
  "nbformat": 4,
  "nbformat_minor": 0,
  "metadata": {
    "colab": {
      "provenance": [],
      "authorship_tag": "ABX9TyMCg0ASddu1RNJAb0pYdCjj",
      "include_colab_link": true
    },
    "kernelspec": {
      "name": "python3",
      "display_name": "Python 3"
    },
    "language_info": {
      "name": "python"
    }
  },
  "cells": [
    {
      "cell_type": "markdown",
      "metadata": {
        "id": "view-in-github",
        "colab_type": "text"
      },
      "source": [
        "<a href=\"https://colab.research.google.com/github/annasyifa/PBO-3/blob/main/selfparameter.ipynb\" target=\"_parent\"><img src=\"https://colab.research.google.com/assets/colab-badge.svg\" alt=\"Open In Colab\"/></a>"
      ]
    },
    {
      "cell_type": "code",
      "execution_count": 14,
      "metadata": {
        "colab": {
          "base_uri": "https://localhost:8080/"
        },
        "id": "goNQ3TMJrT2q",
        "outputId": "1fc40244-0244-4eb5-fd97-e34e5406d4d4"
      },
      "outputs": [
        {
          "output_type": "stream",
          "name": "stdout",
          "text": [
            "Buddy 3 Canine\n",
            "Charlie 5 Canine\n",
            "Canine\n"
          ]
        }
      ],
      "source": [
        "class Dog:\n",
        "    species = \"Canine\"  # Class attribute\n",
        "\n",
        "    def __init__(self, name, age):\n",
        "        self.name = name  # Instance attribute\n",
        "        self.age = age  # Instance attribute\n",
        "\n",
        "dog1 = Dog(\"Buddy\", 3)  # Create an instance of Dog\n",
        "dog2 = Dog(\"Charlie\", 5)  # Create another instance of Dog\n",
        "\n",
        "print(dog1.name, dog1.age, dog1.species)  # Access instance and class attributes\n",
        "print(dog2.name, dog2.age, dog2.species)  # Access instance and class attributes\n",
        "print(Dog.species)  # Access class attribute directly"
      ]
    }
  ]
}